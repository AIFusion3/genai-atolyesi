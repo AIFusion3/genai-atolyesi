{
 "cells": [
  {
   "cell_type": "markdown",
   "id": "30e87cf8-ccb8-442b-9d03-c3b308c1e0c5",
   "metadata": {},
   "source": [
    "# OPENAI \n",
    "OpenAI'ın kendi sağladığı kütüphaneleri kullanarak öncelikle LangChain kullanmadan LLM etkileşimini yapıyoruz."
   ]
  },
  {
   "cell_type": "markdown",
   "id": "d0d629a3-02cc-40c8-9586-37637e41b961",
   "metadata": {},
   "source": [
    "## 🎄 Kurulum \n",
    "\n",
    "Gerekli python paketlerini kuruyoruz. Jupyter üzerinde bir paket kurulumu için #! ile satırı başlatıryoruz.\n",
    "Eğer bilgisayarınızda bunu yapacaksanız terminalden yapmalı ve \"pip3\" ile denemelisiniz.\n"
   ]
  },
  {
   "cell_type": "code",
   "execution_count": null,
   "id": "d7b6541e-7fce-4866-86bd-0571338fd4c7",
   "metadata": {},
   "outputs": [],
   "source": [
    "#!pip install python-dotenv\n",
    "#!pip install openai"
   ]
  },
  {
   "cell_type": "code",
   "execution_count": null,
   "id": "8c540662-5f9a-4541-ac42-cd6c7dbebafd",
   "metadata": {},
   "outputs": [],
   "source": [
    "import os\n",
    "import openai\n",
    "\n",
    "from dotenv import load_dotenv, find_dotenv"
   ]
  },
  {
   "cell_type": "code",
   "execution_count": null,
   "id": "3859e8b1-69c0-4409-b260-70844b09945f",
   "metadata": {},
   "outputs": [],
   "source": [
    "# Load environment variables\n",
    "load_dotenv(find_dotenv())"
   ]
  },
  {
   "cell_type": "code",
   "execution_count": null,
   "id": "f260403c-c8c9-48ed-bffb-e3d8abcb6e3b",
   "metadata": {},
   "outputs": [],
   "source": [
    "# reponun ana dizinine .env adında bir dosya açıp içine şu satırı ekliyoruz\n",
    "# OPENAI_API_KEY=sk-\n",
    "# sk ile başlayan OpenAI tarafından sağlanan API Key.\n",
    "\n",
    "openai.api_key = os.environ['OPENAI_API_KEY']"
   ]
  },
  {
   "cell_type": "markdown",
   "id": "d35ce89c-91fb-4c43-8e19-28b90a093d74",
   "metadata": {},
   "source": [
    "### `openai.ChatCompletion.create`\n",
    "\n",
    "1. **model**: Bu parametre, kullanılacak dil modelinin adını belirtir. Örneğin, \"gpt-3.5-turbo\", \"gpt-4\" gibi. Seçilen model, yanıtın stilini ve kapasitesinde etkili olacaktır.\n",
    "\n",
    "2. **messages**: Diyalog geçmişini temsil eden mesajları içerir. Bu mesajlar, kullanıcının girdileri ve modelin yanıtları olarak düşünülebilir. Mesajlar, bir liste dictionary formatında tanımlanır. Her bir dict, \"role\" ve \"content\" anahtarlarına sahip olmalıdır.\n",
    "   ```python\n",
    "   messages=[\n",
    "       {\"role\": \"system\", \"content\": \"Sadece edebeyat sorularına yanıt veren bir chatbot uygulamasısın\"},\n",
    "       {\"role\": \"user\", \"content\": \"emily bronte' den  uğultulu tepeler hangi yıl yazıldı?\"}\n",
    "   ]\n",
    "\n",
    "3. **max_tokens**: Modelin üreteceği yanıtın maksimum token (kelime ve kelime parçaları) sayısı. Bu değer yanıtın uzunluğunu belirler.\n",
    "\n",
    "4. **temperature**: Yanıtın ne kadar yenilikçi veya beklenmedik olacağını belirleyen parametre. 0 ile 1 arasında bir değer alır. Daha düşük değerler daha tutarlı ve tahmin edilebilir yanıtlar üretirken, daha yüksek değerler daha yaratıcı ve beklenmedik yanıtlar üretir.\n",
    "   \n",
    "5. **top_p**: Yanıt oluştururken dikkate alınacak olasılık dağılımının oranı. Bu parametre, yanıtın çeşitliliğini kontrol etmeye yardımcı olur."
   ]
  },
  {
   "cell_type": "code",
   "execution_count": null,
   "id": "e813a337-0fb1-4160-bc2d-dddbaaa5c082",
   "metadata": {},
   "outputs": [],
   "source": [
    "messages = [{\"role\": \"user\", \"content\": \"Where is the planet Saturn?\"}]\n",
    "response = openai.ChatCompletion.create(\n",
    "        model=\"gpt-4\",\n",
    "        messages=messages,\n",
    "        max_tokens=150,\n",
    "        temperature=0.7\n",
    "    )"
   ]
  },
  {
   "cell_type": "code",
   "execution_count": null,
   "id": "a981cd5a-41c4-45b5-b901-0ffef6a325d4",
   "metadata": {},
   "outputs": [],
   "source": [
    "response.choices[0].message[\"content\"]"
   ]
  },
  {
   "cell_type": "markdown",
   "id": "e5aced66-9c9c-4248-8dc3-74d2dfb50b6a",
   "metadata": {},
   "source": [
    "### `temperature`\n",
    "\n",
    "Aşağıdaki kodu çalıştırdığınızda, aynı soruya modelin nasıl farklı yanıtlar verdiğini gözlemleyebilirsiniz. Düşük temperature daha **gerçekçi ve bilgiye dayalı** bir yanıt üretebilirken, yüksek temperature **daha spekülatif veya yaratıcı fikirler** sunabilir.\n",
    "\n"
   ]
  },
  {
   "cell_type": "code",
   "execution_count": null,
   "id": "9c22bd80-c7ad-4874-a27e-8f3f8d37f4cd",
   "metadata": {},
   "outputs": [],
   "source": [
    "# Aynı mesaj ile iki farklı temperature değeri kullanarak yanıt almak\n",
    "\n",
    "message = [{\"role\": \"user\", \"content\": \"Yapay zeka geleceği nasıl etkileyecek?\"}]\n",
    "\n",
    "# Düşük temperature (0.3)\n",
    "response_low = openai.ChatCompletion.create(\n",
    "    model=\"gpt-4\",\n",
    "    messages=message,\n",
    "    max_tokens=300,\n",
    "    temperature=0.3\n",
    ")\n",
    "\n",
    "# Yüksek temperature (0.9)\n",
    "response_high = openai.ChatCompletion.create(\n",
    "    model=\"gpt-4\",\n",
    "    messages=message,\n",
    "    max_tokens=300,\n",
    "    temperature=0.9\n",
    ")\n",
    "\n",
    "print(\"Düşük Temperature Yanıtı:\", response_low.choices[0].message[\"content\"])\n",
    "print(\"*\"*45)\n",
    "print(\"Yüksek Temperature Yanıtı:\", response_high.choices[0].message[\"content\"])"
   ]
  },
  {
   "cell_type": "markdown",
   "id": "d5d68dd8-42ed-4190-ba31-8f82789bf30b",
   "metadata": {},
   "source": [
    "## `Python ile prompt template`"
   ]
  },
  {
   "cell_type": "code",
   "execution_count": 29,
   "id": "4d3e077a-6de4-4f1b-83f6-dc59d44c2ab4",
   "metadata": {},
   "outputs": [],
   "source": [
    "# openai çağrısını bir fonksiyon içine alıyoruz.\n",
    "def get_completion(prompt, model=\"gpt-4\"):\n",
    "    messages = [{\"role\": \"user\", \"content\": prompt}]\n",
    "    response = openai.ChatCompletion.create(\n",
    "        model=model,\n",
    "        messages=messages,\n",
    "        temperature=0, \n",
    "    )\n",
    "    return response.choices[0].message[\"content\"]"
   ]
  },
  {
   "cell_type": "code",
   "execution_count": 31,
   "id": "a2ff43ff-ee66-4b05-b39f-187e296a9cd5",
   "metadata": {},
   "outputs": [],
   "source": [
    "customer_email = \"\"\"\n",
    "Selam,\n",
    "Geçen hafta sizden aldığım bluetooth hoparlör hiç iyi çıkmadı, sesi berbat. \n",
    "Açıklamada süper olduğu yazıyordu ama beklentimi hiç karşılamadı. \n",
    "Bu konuda bir şeyler yapmanız lazım hemen.\n",
    "Sevgiler.\n",
    "\"\"\""
   ]
  },
  {
   "cell_type": "code",
   "execution_count": 33,
   "id": "181c28f0-ae5e-496d-b267-42600f7ceb12",
   "metadata": {},
   "outputs": [],
   "source": [
    "style = \"\"\"Türkçe dilinde,\\ \n",
    "samimi ve içten bir tonla\n",
    "\"\"\""
   ]
  },
  {
   "cell_type": "code",
   "execution_count": 37,
   "id": "c3604c04-1335-4998-ba43-c5d65a3a54be",
   "metadata": {},
   "outputs": [
    {
     "name": "stdout",
     "output_type": "stream",
     "text": [
      "Üçlü ters tırnak içinde sınırlanan metni Türkçe dilinde,\\ \n",
      "samimi ve içten bir tonla\n",
      " belirtilen üsluba çevirin.\n",
      "metin: ```\n",
      "Selam,\n",
      "Geçen hafta sizden aldığım bluetooth hoparlör hiç iyi çıkmadı, sesi berbat. \n",
      "Açıklamada süper olduğu yazıyordu ama beklentimi hiç karşılamadı. \n",
      "Bu konuda bir şeyler yapmanız lazım hemen.\n",
      "Sevgiler.\n",
      "```\n",
      "\n"
     ]
    }
   ],
   "source": [
    "# python f-string ile bir formatlama yapıyoruz. Bir anlamda template yapısını kuruyoruz.\n",
    "\n",
    "prompt = f\"\"\"Üçlü ters tırnak içinde sınırlanan metni \\\n",
    "{style} belirtilen üsluba çevirin.\n",
    "metin: ```{customer_email}```\n",
    "\"\"\"\n",
    "# ters tırnaklar openai'a prompt oluşturuken yaygın bir şekilde kullanılır.\n",
    "print(prompt)"
   ]
  },
  {
   "cell_type": "code",
   "execution_count": 35,
   "id": "7e5271d2-9fb8-4bef-933a-9b55fe66c208",
   "metadata": {},
   "outputs": [
    {
     "data": {
      "text/plain": [
       "'Merhaba,\\nGeçen hafta sizden satın aldığım bluetooth hoparlörden hiç memnun kalmadım, ses kalitesi çok kötü. Ürün açıklamasında harika olduğu belirtilmişti ama maalesef beklentilerimi karşılamadı. Bu durumu acilen düzeltmeniz gerekiyor.\\nSaygılarımla.'"
      ]
     },
     "execution_count": 35,
     "metadata": {},
     "output_type": "execute_result"
    }
   ],
   "source": [
    "get_completion(prompt)"
   ]
  }
 ],
 "metadata": {
  "kernelspec": {
   "display_name": "Python 3 (ipykernel)",
   "language": "python",
   "name": "python3"
  },
  "language_info": {
   "codemirror_mode": {
    "name": "ipython",
    "version": 3
   },
   "file_extension": ".py",
   "mimetype": "text/x-python",
   "name": "python",
   "nbconvert_exporter": "python",
   "pygments_lexer": "ipython3",
   "version": "3.11.4"
  }
 },
 "nbformat": 4,
 "nbformat_minor": 5
}
