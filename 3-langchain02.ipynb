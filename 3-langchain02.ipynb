{
 "cells": [
  {
   "cell_type": "markdown",
   "id": "4ecb6e1e-0828-422f-961e-03aff8876816",
   "metadata": {},
   "source": [
    "# LangChain Output Parsers"
   ]
  },
  {
   "cell_type": "code",
   "execution_count": 32,
   "id": "2f23e33c-bcd9-4428-acdd-488501018ebf",
   "metadata": {},
   "outputs": [],
   "source": [
    "#!pip install langchain --upgrade"
   ]
  },
  {
   "cell_type": "code",
   "execution_count": 33,
   "id": "8895b118-eb59-43ac-8cf4-7b0a37cbbbe1",
   "metadata": {},
   "outputs": [
    {
     "data": {
      "text/plain": [
       "True"
      ]
     },
     "execution_count": 33,
     "metadata": {},
     "output_type": "execute_result"
    }
   ],
   "source": [
    "from dotenv import load_dotenv,find_dotenv\n",
    "# .env içindeki OPENAI_API_KEY tanımını yapmayı unutmayalım\n",
    "load_dotenv(find_dotenv())"
   ]
  },
  {
   "cell_type": "code",
   "execution_count": 34,
   "id": "101cc6f6-aec4-4cab-aef0-ec2db8929632",
   "metadata": {},
   "outputs": [],
   "source": [
    "from langchain.prompts import ChatPromptTemplate\n",
    "from langchain.chat_models import ChatOpenAI\n",
    "\n",
    "chat = ChatOpenAI(temperature=0.0, model=\"gpt-4\")"
   ]
  },
  {
   "cell_type": "code",
   "execution_count": 35,
   "id": "98b9cffc-03fd-4fc4-9fcc-230a9d3b0a38",
   "metadata": {},
   "outputs": [],
   "source": [
    "customer_review = \"\"\"\\\n",
    "Bu yaprak üfleyici gerçekten harika. Dört ayarı var:\\\n",
    "mum üfleyici, hafif esinti, rüzgarlı şehir ve kasırga. \\\n",
    "İki günde geldi, tam da eşimin yıldönümü hediyesi için zamanında. \\\n",
    "Sanırım eşim bunu o kadar çok beğendi ki, adeta dili tutuldu. \\\n",
    "Şimdiye kadar sadece ben kullanıyorum ve her iki günde bir \\\n",
    "bahçemizdeki yaprakları temizlemek için kullanıyorum. \\\n",
    "Diğer yaprak üfleyicilere göre biraz daha pahalı ama, \\\n",
    "ekstra özellikleri için buna değer olduğunu düşünüyorum. \\\n",
    "\"\"\"\n",
    "\n",
    "review_template = \"\"\"\\\n",
    "Aşağıdaki metinden şu bilgileri çıkarın:\n",
    "\n",
    "gift: Ürün başka birisi için hediye olarak mı alındı?\n",
    "Eğer evetse Cevap True, değilse ya da bilinmiyorsa False olarak belirtin.\n",
    "\n",
    "delivery_days: Ürünün teslim alınması kaç gün sürdü?\n",
    "Bu bilgi bulunmuyorsa, -1 olarak çıktı verin.\n",
    "\n",
    "price_value: Fiyat veya değer hakkında olan cümleleri çıkarın,\n",
    "ve bunları virgülle ayrılmış bir Python listesi olarak belirtin.\n",
    "\n",
    "Çıktıyı aşağıdaki anahtarlarla JSON formatında düzenleyin:\n",
    "hediye\n",
    "teslimat_gunleri\n",
    "fiyat_degeri\n",
    "\n",
    "metin: {text}\n",
    "\"\"\""
   ]
  },
  {
   "cell_type": "code",
   "execution_count": 39,
   "id": "44b3935b-0488-446b-8327-13e20b02510e",
   "metadata": {},
   "outputs": [
    {
     "name": "stdout",
     "output_type": "stream",
     "text": [
      "input_variables=['text'] messages=[HumanMessagePromptTemplate(prompt=PromptTemplate(input_variables=['text'], template='Aşağıdaki metinden şu bilgileri çıkarın:\\n\\ngift: Ürün başka birisi için hediye olarak mı alındı?\\nEğer evetse Cevap True, değilse ya da bilinmiyorsa False olarak belirtin.\\n\\ndelivery_days: Ürünün teslim alınması kaç gün sürdü?\\nBu bilgi bulunmuyorsa, -1 olarak çıktı verin.\\n\\nprice_value: Fiyat veya değer hakkında olan cümleleri çıkarın,\\nve bunları virgülle ayrılmış bir Python listesi olarak belirtin.\\n\\nÇıktıyı aşağıdaki anahtarlarla JSON formatında düzenleyin:\\nhediye\\nteslimat_gunleri\\nfiyat_degeri\\n\\nmetin: {text}\\n'))]\n"
     ]
    }
   ],
   "source": [
    "prompt_template = ChatPromptTemplate.from_template(review_template)\n",
    "print(prompt_template)"
   ]
  },
  {
   "cell_type": "code",
   "execution_count": 40,
   "id": "e152def0-9f87-407e-a505-78e82b0c539a",
   "metadata": {},
   "outputs": [
    {
     "name": "stdout",
     "output_type": "stream",
     "text": [
      "{\n",
      "\"hediye\": true,\n",
      "\"teslimat_gunleri\": 2,\n",
      "\"fiyat_degeri\": [\"Diğer yaprak üfleyicilere göre biraz daha pahalı ama, ekstra özellikleri için buna değer olduğunu düşünüyorum.\"]\n",
      "}\n"
     ]
    }
   ],
   "source": [
    "messages = prompt_template.format_messages(text=customer_review)\n",
    "response = chat(messages)\n",
    "print(response.content)"
   ]
  },
  {
   "cell_type": "code",
   "execution_count": 41,
   "id": "2ab62f96-15ab-4f31-b9b9-7ba96eb6d0ce",
   "metadata": {},
   "outputs": [
    {
     "data": {
      "text/plain": [
       "str"
      ]
     },
     "execution_count": 41,
     "metadata": {},
     "output_type": "execute_result"
    }
   ],
   "source": [
    "type(response.content)"
   ]
  },
  {
   "cell_type": "code",
   "execution_count": 43,
   "id": "1292b3d4-c87a-4135-901b-f26ca507f60b",
   "metadata": {},
   "outputs": [
    {
     "ename": "AttributeError",
     "evalue": "'str' object has no attribute 'get'",
     "output_type": "error",
     "traceback": [
      "\u001b[0;31m---------------------------------------------------------------------------\u001b[0m",
      "\u001b[0;31mAttributeError\u001b[0m                            Traceback (most recent call last)",
      "Cell \u001b[0;32mIn[43], line 1\u001b[0m\n\u001b[0;32m----> 1\u001b[0m \u001b[43mresponse\u001b[49m\u001b[38;5;241;43m.\u001b[39;49m\u001b[43mcontent\u001b[49m\u001b[38;5;241;43m.\u001b[39;49m\u001b[43mget\u001b[49m(\u001b[38;5;124m'\u001b[39m\u001b[38;5;124mhediye\u001b[39m\u001b[38;5;124m'\u001b[39m)\n",
      "\u001b[0;31mAttributeError\u001b[0m: 'str' object has no attribute 'get'"
     ]
    }
   ],
   "source": [
    "response.content.get('hediye')"
   ]
  },
  {
   "cell_type": "code",
   "execution_count": 44,
   "id": "a28ac26c-fa7a-413a-90a6-18fa5e077fb7",
   "metadata": {},
   "outputs": [],
   "source": [
    "from langchain.output_parsers import ResponseSchema\n",
    "from langchain.output_parsers import StructuredOutputParser"
   ]
  },
  {
   "cell_type": "code",
   "execution_count": 45,
   "id": "5a751e1c-2e22-435c-9219-c39a0e3baed2",
   "metadata": {},
   "outputs": [],
   "source": [
    "gift_schema = ResponseSchema(name=\"gift\",\n",
    "                             description=\"Was the item purchased\\\n",
    "                             as a gift for someone else? \\\n",
    "                             Answer True if yes,\\\n",
    "                             False if not or unknown.\")\n",
    "delivery_days_schema = ResponseSchema(name=\"delivery_days\",\n",
    "                                      description=\"How many days\\\n",
    "                                      did it take for the product\\\n",
    "                                      to arrive? If this \\\n",
    "                                      information is not found,\\\n",
    "                                      output -1.\")\n",
    "price_value_schema = ResponseSchema(name=\"price_value\",\n",
    "                                    description=\"Extract any\\\n",
    "                                    sentences about the value or \\\n",
    "                                    price, and output them as a \\\n",
    "                                    comma separated Python list.\")\n",
    "\n",
    "response_schemas = [gift_schema, \n",
    "                    delivery_days_schema,\n",
    "                    price_value_schema]"
   ]
  },
  {
   "cell_type": "code",
   "execution_count": 46,
   "id": "2e1f121b-de24-42df-a317-9e5eb8c2ac0c",
   "metadata": {},
   "outputs": [],
   "source": [
    "output_parser = StructuredOutputParser.from_response_schemas(response_schemas)"
   ]
  },
  {
   "cell_type": "code",
   "execution_count": 47,
   "id": "7ee95e9c-9076-49e3-a74b-ddbaca4b5ba1",
   "metadata": {},
   "outputs": [],
   "source": [
    "format_instructions = output_parser.get_format_instructions()"
   ]
  },
  {
   "cell_type": "code",
   "execution_count": 48,
   "id": "d7a53bb8-70fe-48e7-b9dc-d3149551aacf",
   "metadata": {},
   "outputs": [
    {
     "name": "stdout",
     "output_type": "stream",
     "text": [
      "The output should be a markdown code snippet formatted in the following schema, including the leading and trailing \"```json\" and \"```\":\n",
      "\n",
      "```json\n",
      "{\n",
      "\t\"gift\": string  // Was the item purchased                             as a gift for someone else?                              Answer True if yes,                             False if not or unknown.\n",
      "\t\"delivery_days\": string  // How many days                                      did it take for the product                                      to arrive? If this                                       information is not found,                                      output -1.\n",
      "\t\"price_value\": string  // Extract any                                    sentences about the value or                                     price, and output them as a                                     comma separated Python list.\n",
      "}\n",
      "```\n"
     ]
    }
   ],
   "source": [
    "print(format_instructions)"
   ]
  },
  {
   "cell_type": "code",
   "execution_count": 49,
   "id": "5829981c-6d15-4513-8c49-3cf3b2492f9a",
   "metadata": {},
   "outputs": [],
   "source": [
    "new_review_template = \"\"\"\\\n",
    "For the following text, extract the following information:\n",
    "\n",
    "gift: Was the item purchased as a gift for someone else? \\\n",
    "Answer True if yes, False if not or unknown.\n",
    "\n",
    "delivery_days: How many days did it take for the product\\\n",
    "to arrive? If this information is not found, output -1.\n",
    "\n",
    "price_value: Extract any sentences about the value or price,\\\n",
    "and output them as a comma separated Python list.\n",
    "\n",
    "text: {text}\n",
    "\n",
    "{format_instructions}\n",
    "\"\"\"\n",
    "\n",
    "prompt = ChatPromptTemplate.from_template(template=new_review_template)\n",
    "\n",
    "messages = prompt.format_messages(text=customer_review, \n",
    "                                format_instructions=format_instructions)"
   ]
  },
  {
   "cell_type": "code",
   "execution_count": 50,
   "id": "7ac69eb0-8f31-41a8-8824-d0f9dcc644ea",
   "metadata": {},
   "outputs": [
    {
     "name": "stdout",
     "output_type": "stream",
     "text": [
      "For the following text, extract the following information:\n",
      "\n",
      "gift: Was the item purchased as a gift for someone else? Answer True if yes, False if not or unknown.\n",
      "\n",
      "delivery_days: How many days did it take for the productto arrive? If this information is not found, output -1.\n",
      "\n",
      "price_value: Extract any sentences about the value or price,and output them as a comma separated Python list.\n",
      "\n",
      "text: Bu yaprak üfleyici gerçekten harika. Dört ayarı var:mum üfleyici, hafif esinti, rüzgarlı şehir ve kasırga. İki günde geldi, tam da eşimin yıldönümü hediyesi için zamanında. Sanırım eşim bunu o kadar çok beğendi ki, adeta dili tutuldu. Şimdiye kadar sadece ben kullanıyorum ve her iki günde bir bahçemizdeki yaprakları temizlemek için kullanıyorum. Diğer yaprak üfleyicilere göre biraz daha pahalı ama, ekstra özellikleri için buna değer olduğunu düşünüyorum. \n",
      "\n",
      "The output should be a markdown code snippet formatted in the following schema, including the leading and trailing \"```json\" and \"```\":\n",
      "\n",
      "```json\n",
      "{\n",
      "\t\"gift\": string  // Was the item purchased                             as a gift for someone else?                              Answer True if yes,                             False if not or unknown.\n",
      "\t\"delivery_days\": string  // How many days                                      did it take for the product                                      to arrive? If this                                       information is not found,                                      output -1.\n",
      "\t\"price_value\": string  // Extract any                                    sentences about the value or                                     price, and output them as a                                     comma separated Python list.\n",
      "}\n",
      "```\n",
      "\n"
     ]
    }
   ],
   "source": [
    "print(messages[0].content)"
   ]
  },
  {
   "cell_type": "code",
   "execution_count": 51,
   "id": "52e80189-d34a-4aa1-864a-c70eae9d0da8",
   "metadata": {},
   "outputs": [],
   "source": [
    "response = chat(messages)"
   ]
  },
  {
   "cell_type": "code",
   "execution_count": 52,
   "id": "5993e48a-8a93-40a9-8fad-4186fbd4f986",
   "metadata": {},
   "outputs": [
    {
     "name": "stdout",
     "output_type": "stream",
     "text": [
      "```json\n",
      "{\n",
      "\t\"gift\": true,\n",
      "\t\"delivery_days\": 2,\n",
      "\t\"price_value\": [\"Diğer yaprak üfleyicilere göre biraz daha pahalı ama, ekstra özellikleri için buna değer olduğunu düşünüyorum.\"]\n",
      "}\n",
      "```\n"
     ]
    }
   ],
   "source": [
    "print(response.content)"
   ]
  },
  {
   "cell_type": "code",
   "execution_count": 53,
   "id": "5b3ac603-3561-4abd-856b-6b8473401647",
   "metadata": {},
   "outputs": [],
   "source": [
    "output_dict = output_parser.parse(response.content)"
   ]
  },
  {
   "cell_type": "code",
   "execution_count": 54,
   "id": "4df336a3-4a81-43f0-b23f-6411147d56f0",
   "metadata": {},
   "outputs": [
    {
     "data": {
      "text/plain": [
       "True"
      ]
     },
     "execution_count": 54,
     "metadata": {},
     "output_type": "execute_result"
    }
   ],
   "source": [
    "output_dict.get(\"gift\")"
   ]
  },
  {
   "cell_type": "code",
   "execution_count": null,
   "id": "579dd04f-6a7d-4d9e-850a-2cd978d5a8cc",
   "metadata": {},
   "outputs": [],
   "source": []
  }
 ],
 "metadata": {
  "kernelspec": {
   "display_name": "Python 3 (ipykernel)",
   "language": "python",
   "name": "python3"
  },
  "language_info": {
   "codemirror_mode": {
    "name": "ipython",
    "version": 3
   },
   "file_extension": ".py",
   "mimetype": "text/x-python",
   "name": "python",
   "nbconvert_exporter": "python",
   "pygments_lexer": "ipython3",
   "version": "3.11.4"
  }
 },
 "nbformat": 4,
 "nbformat_minor": 5
}
