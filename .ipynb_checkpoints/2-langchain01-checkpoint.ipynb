{
 "cells": [
  {
   "cell_type": "markdown",
   "id": "4ecb6e1e-0828-422f-961e-03aff8876816",
   "metadata": {},
   "source": [
    "# LangChain\n",
    "\n",
    "LangChain, Harrison Chase tarafından oluşturulan açık kaynaklı bir framework'tür. LLM destekli uygulamaların geliştirilmesini kolaylaştırmak için temel modellere, prompt ve memory yönetimine, harici veri ve hizmetlere modüler bir interface sağlar.\n",
    "\n",
    "\n",
    "### LangChain Componentleri\n",
    "- **Models.** GPT-3, Jurassic-1 gibi farklı temel modellere ortak bir arayüz sağlar. Modelleri değiştirmeyi kolaylaştırır.\n",
    "- **Prompt Management.** Modelleri sorgulamak için kullanılan istemleri yönetmeye ve takip etmeye yardımcı olur. İstem mühendisliği için faydalıdır.\n",
    "- **Memory.** Uygulamalara, bağlam, gerçekler vb. için ortak bir uzun süreli bellek deposu verir. Tutarlı yanıtların korunmasına yardımcı olur.\n",
    "- **VectorStores.** Modellerin, gerçek dünya verilerini dahil etmek için harici veritabanlarına ve API'lara bağlanmasına olanak tanır.\n",
    "- **Chains.** Birden fazla modeli bir arada kullanmayı sağlar, birinin çıktılarını diğerinin girdileri olarak kullanır.\n",
    "- **Agents.** Hesaplamalar, aramalar vb. gibi özelleştirilmiş görevler için harici hizmetlere arayüz sunar.\n",
    "\n",
    "Bu temel yapı taşlarını modüler bir şekilde sağlayarak, LangChain LLM uygulamalarının geliştirilmesini basitleştirmeyi ve hızlandırmayı amaçlar. \n",
    "\n",
    "\n",
    "**`Öncelikle langchain kütüphanesini kurmalıyız.`**"
   ]
  },
  {
   "cell_type": "code",
   "execution_count": null,
   "id": "bcead0be-8510-4745-881c-585a82298842",
   "metadata": {},
   "outputs": [],
   "source": [
    "#!pip3 install --upgrade langchain"
   ]
  },
  {
   "cell_type": "code",
   "execution_count": null,
   "id": "8895b118-eb59-43ac-8cf4-7b0a37cbbbe1",
   "metadata": {},
   "outputs": [],
   "source": [
    "from dotenv import load_dotenv,find_dotenv\n",
    "# .env içindeki OPENAI_API_KEY tanımını yapmayı unutmayalım\n",
    "load_dotenv(find_dotenv())"
   ]
  },
  {
   "cell_type": "code",
   "execution_count": null,
   "id": "6e14f11f-e41a-4db7-9eef-d2ae3f075fe2",
   "metadata": {},
   "outputs": [],
   "source": [
    "# llm arayüzü ile basit bir sorgu çalıştıralım\n",
    "# arayüzler hakkında bilgi için lütfen notion linkine göz atınız\n",
    "\n",
    "from langchain.llms import OpenAI\n",
    "llm = OpenAI(model_name=\"gpt-3.5-turbo\")\n",
    "llm(\"explain large language models in one sentence\")"
   ]
  },
  {
   "cell_type": "code",
   "execution_count": null,
   "id": "a4bd05ec-4939-450c-90be-d1bddd88f7fa",
   "metadata": {},
   "outputs": [],
   "source": [
    "# Notion belgesinde açıkladığımız AIMessage, HumanMessage ve \n",
    "# SystemMessage'ı ChatModel arayüzü ile deneyelim\n",
    "\n",
    "from langchain.schema import (\n",
    "    AIMessage,\n",
    "    HumanMessage,\n",
    "    SystemMessage\n",
    ")\n",
    "from langchain.chat_models import ChatOpenAI"
   ]
  },
  {
   "cell_type": "code",
   "execution_count": null,
   "id": "3ac33b55-0788-4501-9cfd-f969a7aa12f2",
   "metadata": {},
   "outputs": [],
   "source": [
    "chat = ChatOpenAI(model_name=\"gpt-3.5-turbo\",temperature=0.3)\n",
    "messages = [\n",
    "    SystemMessage(content=\"You are an expert data scientist\"),\n",
    "    HumanMessage(content=\"how does energy exists within a cell?\")\n",
    "]\n",
    "response=chat(messages)\n",
    "\"\"\"\n",
    "LangChain ve ChatModel arayüzü kullandığımızda \n",
    "dönüşteki json'ı parse etmeye gerek kalmadan (response.choices[0].message[\"content\"])\n",
    "doğrudan sonuca ulaşabiliyoruz\n",
    "\"\"\"\n",
    "print(response.content,end='\\n')"
   ]
  },
  {
   "cell_type": "markdown",
   "id": "509e5784-2d44-4791-ad4f-440cec426625",
   "metadata": {},
   "source": [
    "## Prompt Templates\n",
    "\n",
    "LangChain prompt template sistemi ile optimizasyon, güvenlik ve hızlı entegrasyon sağlar"
   ]
  },
  {
   "cell_type": "code",
   "execution_count": null,
   "id": "771a0be5-8f2d-492a-b348-90f50fd48b19",
   "metadata": {},
   "outputs": [],
   "source": [
    "template_string = \"\"\"Translate the text \\\n",
    "that is delimited by triple backticks \\\n",
    "into a style that is {style}. \\\n",
    "text: ```{text}```\n",
    "\"\"\""
   ]
  },
  {
   "cell_type": "code",
   "execution_count": null,
   "id": "e7b07161-56aa-4110-85da-716c8c24b7c5",
   "metadata": {},
   "outputs": [],
   "source": [
    "from langchain.prompts import ChatPromptTemplate\n",
    "\n",
    "prompt_template = ChatPromptTemplate.from_template(template_string)"
   ]
  },
  {
   "cell_type": "code",
   "execution_count": null,
   "id": "a18f70f1-8f13-4062-8da4-f07729c96c9b",
   "metadata": {},
   "outputs": [],
   "source": [
    "prompt_template.messages[0].prompt"
   ]
  },
  {
   "cell_type": "code",
   "execution_count": null,
   "id": "4850cda6-ba9c-4152-b903-552756d0c465",
   "metadata": {},
   "outputs": [],
   "source": [
    "prompt_template.messages[0].prompt.input_variables"
   ]
  },
  {
   "cell_type": "code",
   "execution_count": null,
   "id": "9ba42c79-a12b-4564-9bab-70e1b78ffbca",
   "metadata": {},
   "outputs": [],
   "source": [
    "customer_style = \"\"\"Türkçe dilinde,\\ \n",
    "samimi ve içten bir tonla\n",
    "\"\"\""
   ]
  },
  {
   "cell_type": "code",
   "execution_count": null,
   "id": "538d870a-c8dd-4507-a495-96c98b413afe",
   "metadata": {},
   "outputs": [],
   "source": [
    "customer_email = \"\"\"\n",
    "Selam, \\\n",
    "Geçen hafta sizden aldığım bluetooth hoparlör hiç iyi çıkmadı, sesi berbat. }\n",
    "Açıklamada süper olduğu yazıyordu ama beklentimi hiç karşılamadı. \\\n",
    "Bu konuda bir şeyler yapmanız lazım hemen.\\ \n",
    "Sevgiler.\n",
    "\"\"\""
   ]
  },
  {
   "cell_type": "code",
   "execution_count": null,
   "id": "f8244aff-5bd2-4aa8-a204-ae756f9ba2d9",
   "metadata": {},
   "outputs": [],
   "source": [
    "customer_messages = prompt_template.format_messages(\n",
    "                    style=customer_style,\n",
    "                    text=customer_email)"
   ]
  },
  {
   "cell_type": "code",
   "execution_count": null,
   "id": "9b1d660f-57ae-4fec-957b-8dc8d1c894df",
   "metadata": {},
   "outputs": [],
   "source": [
    "print(type(customer_messages))\n",
    "print(type(customer_messages[0]))"
   ]
  },
  {
   "cell_type": "code",
   "execution_count": null,
   "id": "87cabe07-2020-4755-9092-353a1dc0c789",
   "metadata": {},
   "outputs": [],
   "source": [
    "print(customer_messages[0])"
   ]
  },
  {
   "cell_type": "code",
   "execution_count": null,
   "id": "c3acf6c6-f485-414a-8a51-1dcb15ad79d5",
   "metadata": {},
   "outputs": [],
   "source": [
    "customer_response = chat(customer_messages)"
   ]
  },
  {
   "cell_type": "code",
   "execution_count": null,
   "id": "9480ece8-9568-4173-b75f-1b51f3966104",
   "metadata": {},
   "outputs": [],
   "source": [
    "print(customer_response.content)"
   ]
  }
 ],
 "metadata": {
  "kernelspec": {
   "display_name": "Python 3 (ipykernel)",
   "language": "python",
   "name": "python3"
  },
  "language_info": {
   "codemirror_mode": {
    "name": "ipython",
    "version": 3
   },
   "file_extension": ".py",
   "mimetype": "text/x-python",
   "name": "python",
   "nbconvert_exporter": "python",
   "pygments_lexer": "ipython3",
   "version": "3.11.4"
  }
 },
 "nbformat": 4,
 "nbformat_minor": 5
}
